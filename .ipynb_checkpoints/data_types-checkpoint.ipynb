{
 "cells": [
  {
   "cell_type": "markdown",
   "metadata": {},
   "source": [
    "#### why does indexing start from 0?\n",
    "\n",
    "     -  Address = Base Address + Index * Size of the data type"
   ]
  },
  {
   "cell_type": "markdown",
   "metadata": {},
   "source": [
    "## String "
   ]
  },
  {
   "cell_type": "code",
   "execution_count": 1,
   "metadata": {},
   "outputs": [
    {
     "data": {
      "text/plain": [
       "False"
      ]
     },
     "execution_count": 1,
     "metadata": {},
     "output_type": "execute_result"
    }
   ],
   "source": [
    "\n",
    "# Basic Operations\n",
    "str1 = \"hello\"\n",
    "str2 = \"world\"\n",
    "concatenated = str1 + str2  # Concatenation\n",
    "repeated = str1 * 3        # Repetition\n",
    "length = len(str1)         # Length\n",
    "char = str1[0]            # Indexing\n",
    "slice = str1[1:4]         # Slicing\n",
    "# Common String Methods\n",
    "text = \"  Hello, World  \"\n",
    "text.strip()      # Remove leading/trailing whitespace\n",
    "text.lower()      # Convert to lowercase\n",
    "text.upper()      # Convert to uppercase\n",
    "text.split(',')   # Split string into list\n",
    "text.replace('o', 'x')  # Replace characters\n",
    "text.find('o')    # Find first occurrence , returns index\n",
    "text.count('l')   # Count occurrences\n",
    "','.join(['a','b'])  # Join strings\n",
    "text.startswith('H')  # Check prefix\n",
    "text.endswith('d')   # Check suffix"
   ]
  },
  {
   "cell_type": "markdown",
   "metadata": {},
   "source": [
    "### Lists"
   ]
  },
  {
   "cell_type": "code",
   "execution_count": null,
   "metadata": {},
   "outputs": [],
   "source": [
    "#list:A list in Python is an ordered, mutable (modifiable) collection that can hold elements of different types\n",
    "\n",
    "#Python lists are versatile, mutable, and support powerful operations.\n",
    "\n",
    "# Mastering them will make your coding efficient and flexible"
   ]
  },
  {
   "cell_type": "code",
   "execution_count": null,
   "metadata": {},
   "outputs": [],
   "source": [
    "# creating of list\n",
    "# Empty list\n",
    "my_list = []\n",
    "\n",
    "# List with elements\n",
    "numbers = [1, 2, 3, 4, 5]\n",
    "mixed_list = [10, \"Hello\", 3.14, True]\n",
    "nested_list = [[1, 2], [3, 4], [5, 6]]\n",
    "\n",
    "print(numbers)  # Output: [1, 2, 3, 4, 5]\n"
   ]
  },
  {
   "cell_type": "code",
   "execution_count": null,
   "metadata": {},
   "outputs": [],
   "source": [
    "# Accessing Elements\n",
    "numbers = [10, 20, 30, 40, 50]\n",
    "\n",
    "print(numbers[0])   # First element: 10\n",
    "print(numbers[-1])  # Last element: 50\n"
   ]
  },
  {
   "cell_type": "code",
   "execution_count": null,
   "metadata": {},
   "outputs": [],
   "source": [
    "#slicing\n",
    "print(numbers[1:4])   # Elements from index 1 to 3 -> [20, 30, 40]\n",
    "print(numbers[:3])    # First 3 elements -> [10, 20, 30]\n",
    "print(numbers[::2])   # Every second element -> [10, 30, 50]\n",
    "print(numbers[::-1])  # Reverse list -> [50, 40, 30, 20, 10]\n"
   ]
  },
  {
   "cell_type": "code",
   "execution_count": null,
   "metadata": {},
   "outputs": [],
   "source": [
    "# Modifying of list\n",
    "numbers[1] = 25\n",
    "print(numbers)  # [10, 25, 30, 40, 50]\n"
   ]
  },
  {
   "cell_type": "code",
   "execution_count": null,
   "metadata": {},
   "outputs": [],
   "source": [
    "# Adding elements\n",
    "\n",
    "\n",
    "# Append (add to end)\n",
    "numbers.append(60)\n",
    "\n",
    "# Insert at a specific position\n",
    "numbers.insert(2, 99)\n",
    "\n",
    "# Extend (merge lists)\n",
    "numbers.extend([70, 80])\n",
    "\n",
    "print(numbers)  # [10, 25, 99, 30, 40, 50, 60, 70, 80]\n"
   ]
  },
  {
   "cell_type": "code",
   "execution_count": null,
   "metadata": {},
   "outputs": [],
   "source": [
    "#removing of elements\n",
    "\n",
    "\n",
    "# Remove specific value\n",
    "numbers.remove(99)\n",
    "\n",
    "# Pop (remove by index, default last)\n",
    "numbers.pop()\n",
    "\n",
    "# Delete by index\n",
    "del numbers[2]\n",
    "\n",
    "# Clear all elements\n",
    "numbers.clear()\n",
    "\n",
    "print(numbers)  # []\n"
   ]
  },
  {
   "cell_type": "code",
   "execution_count": null,
   "metadata": {},
   "outputs": [],
   "source": [
    "#List Operations\n",
    "\n",
    "#Concatenation and Repetition\n",
    "\n",
    "list1 = [1, 2, 3]\n",
    "list2 = [4, 5, 6]\n",
    "\n",
    "# Concatenate\n",
    "print(list1 + list2)  # [1, 2, 3, 4, 5, 6]\n",
    "\n",
    "# Repeat\n",
    "print(list1 * 3)  # [1, 2, 3, 1, 2, 3, 1, 2, 3]\n",
    "\n",
    "#Checking Membership\n",
    "\n",
    "print(3 in list1)   # True\n",
    "print(10 not in list1)  # True\n",
    "\n",
    "# Counting Occurrences\n",
    "\n",
    "numbers = [1, 2, 3, 4, 2, 2, 5, 6]\n",
    "print(numbers.count(2))  # Output: 3\n",
    "\n",
    "# Finding Index of an Element\n",
    "\n",
    "print(numbers.index(2))  # Output: 1 (first occurrence of 2)\n",
    "\n",
    "print(numbers.index(2, 2))  # Start searching from index 2\n"
   ]
  },
  {
   "cell_type": "code",
   "execution_count": null,
   "metadata": {},
   "outputs": [],
   "source": [
    "#Built-in List Methods\n",
    "\n",
    "numbers = [3, 1, 4, 1, 5, 9]\n",
    "\n",
    "print(len(numbers))  # Length of list: 6\n",
    "print(max(numbers))  # Maximum: 9\n",
    "print(min(numbers))  # Minimum: 1\n",
    "print(sum(numbers))  # Sum: 23\n"
   ]
  },
  {
   "cell_type": "code",
   "execution_count": null,
   "metadata": {},
   "outputs": [],
   "source": [
    "#Sorting and Reversing\n",
    "\n",
    "numbers.sort()   # Ascending\n",
    "numbers.sort(reverse=True)  # Descending\n",
    "numbers.reverse()  # Reverse order\n",
    "print(numbers)\n"
   ]
  },
  {
   "cell_type": "markdown",
   "metadata": {},
   "source": [
    "# sample example\n"
   ]
  },
  {
   "cell_type": "code",
   "execution_count": 1,
   "metadata": {},
   "outputs": [
    {
     "name": "stdout",
     "output_type": "stream",
     "text": [
      "Updated Gift Shop List: ['Teddy Bear', 'Handmade Greeting Card', 'Perfume', 'Photo Frame']\n"
     ]
    }
   ],
   "source": [
    "# Creating a list of gift shop items\n",
    "gift_items = [\"Teddy Bear\", \"Mug\", \"Greeting Card\", \"Perfume\"]\n",
    "\n",
    "# Modifying an item in the list\n",
    "gift_items[2] = \"Handmade Greeting Card\"  # Changing \"Greeting Card\" to \"Handmade Greeting Card\"\n",
    "\n",
    "# Adding a new item to the list\n",
    "gift_items.append(\"Photo Frame\")\n",
    "\n",
    "# Removing an item from the list\n",
    "gift_items.remove(\"Mug\")\n",
    "\n",
    "# Printing the modified list\n",
    "print(\"Updated Gift Shop List:\", gift_items)\n"
   ]
  },
  {
   "cell_type": "code",
   "execution_count": 3,
   "metadata": {},
   "outputs": [],
   "source": [
    "#practice questions on list\n",
    "#1.Given a list nums = [5, 10, 15, 20, 25], print the second and second-to-last elements.\n",
    "\n",
    "#2.Write a function to find and return the maximum and minimum elements in a list.\n",
    "\n",
    "#3.Remove all occurrences of 3 from the list [1, 3, 3, 4, 5, 3, 6, 7] without using a loop.\n",
    "\n",
    "#4.Merge two lists [1, 2, 3] and [4, 5, 6] into a single sorted list.\n",
    "\n",
    "#5.Find and return the sum of all even numbers in the list [12, 15, 18, 21, 24, 27].\n",
    "\n",
    "#6.Given a list ['apple', 'banana', 'cherry', 'apple', 'banana', 'apple'], find the most frequently occurring element.\n",
    "\n",
    "#7.Rotate the list [10, 20, 30, 40, 50] to the left by 2 positions.\n",
    "\n",
    "#8.Write a function that removes duplicate elements from a list while preserving the original order.\n",
    "\n",
    "#9.Find all pairs in the list [1, 2, 3, 4, 5, 6] that sum up to 7.\n",
    "\n",
    "#10.Given a 2D list [[1, 2, 3], [4, 5, 6], [7, 8, 9]], write a function to transpose it (swap rows and columns).\n"
   ]
  },
  {
   "cell_type": "markdown",
   "metadata": {},
   "source": [
    "### Tuple "
   ]
  },
  {
   "cell_type": "code",
   "execution_count": 133,
   "metadata": {},
   "outputs": [
    {
     "name": "stdout",
     "output_type": "stream",
     "text": [
      "(1, 2, 3, 4, 5)\n",
      "(1, 2, 3, 1, 2, 3)\n",
      "True\n"
     ]
    }
   ],
   "source": [
    "tup = (1, 2, 3)\n",
    "\n",
    "# Information Methods (Limited due to immutability)\n",
    "tup.count(2)      # Count occurrences\n",
    "tup.index(2)      # Find index\n",
    "\n",
    "# Operations\n",
    "len(tup)          # Length\n",
    "print(tup + (4,5))       # Concatenation\n",
    "print(tup * 2)           # Repetition\n",
    "print(2 in tup)          # Membership testing"
   ]
  },
  {
   "cell_type": "markdown",
   "metadata": {},
   "source": [
    "### set"
   ]
  },
  {
   "cell_type": "code",
   "execution_count": 135,
   "metadata": {},
   "outputs": [
    {
     "name": "stdout",
     "output_type": "stream",
     "text": [
      "{1, 2, 3}\n",
      "<class 'set'>\n",
      "<class 'set'>\n",
      "<class 'set'>\n",
      "<class 'set'>\n"
     ]
    },
    {
     "data": {
      "text/plain": [
       "False"
      ]
     },
     "execution_count": 135,
     "metadata": {},
     "output_type": "execute_result"
    }
   ],
   "source": [
    "s = {1, 2, 3}\n",
    "print(s)\n",
    "print(type(s))\n",
    "ss = {}\n",
    "ss = set()\n",
    "print(type(ss))\n",
    "print(type(ss))\n",
    "# Modification Methods\n",
    "s.add(4)          # Add element\n",
    "s.remove(1)       # Remove element (raises error if not found)\n",
    "s.discard(1)      # Remove element (no error if not found)\n",
    "s.pop()           # Remove and return arbitrary element\n",
    "s.clear()         # Remove all elements\n",
    "\n",
    "# Set Operations\n",
    "s1 = {1, 2, 3}\n",
    "print(type(s1))\n",
    "s2 = {3, 4, 5}\n",
    "s1.union(s2)      # Union\n",
    "s1.intersection(s2)  # Intersection\n",
    "s1.difference(s2)    # Difference\n",
    "s1.symmetric_difference(s2)  # Symmetric difference \n",
    "s1.issubset(s2)      # Check if subset\n",
    "s1.issuperset(s2)    # Check if superset\n",
    "\n",
    "# Operations\n",
    "len(s)            # Length\n",
    "2 in s            # Membership testing"
   ]
  },
  {
   "cell_type": "code",
   "execution_count": 155,
   "metadata": {},
   "outputs": [
    {
     "data": {
      "text/plain": [
       "1"
      ]
     },
     "execution_count": 155,
     "metadata": {},
     "output_type": "execute_result"
    }
   ],
   "source": [
    "my_set = {1, 2, 3, 4, 5}\n",
    "my_set.pop()"
   ]
  },
  {
   "cell_type": "code",
   "execution_count": 160,
   "metadata": {},
   "outputs": [
    {
     "name": "stdout",
     "output_type": "stream",
     "text": [
      "{6}\n",
      "{6, 7}\n"
     ]
    }
   ],
   "source": [
    "my_set.pop()\n",
    "my_set.add(6)\n",
    "print(my_set) \n",
    "my_set.add(7)\n",
    "print(my_set)"
   ]
  },
  {
   "cell_type": "code",
   "execution_count": 166,
   "metadata": {},
   "outputs": [
    {
     "name": "stdout",
     "output_type": "stream",
     "text": [
      "{0, 2, 5, 6, 7, 8, 'basara', 'Basara'}\n"
     ]
    }
   ],
   "source": [
    "\n",
    "my_set.update({2, 0, 5, 8, 'basara',\"Basara\"})\n",
    "print(my_set)"
   ]
  },
  {
   "cell_type": "code",
   "execution_count": null,
   "metadata": {},
   "outputs": [],
   "source": []
  },
  {
   "cell_type": "code",
   "execution_count": 153,
   "metadata": {},
   "outputs": [
    {
     "data": {
      "text/plain": [
       "3"
      ]
     },
     "execution_count": 153,
     "metadata": {},
     "output_type": "execute_result"
    }
   ],
   "source": [
    "my_set.pop()"
   ]
  },
  {
   "cell_type": "markdown",
   "metadata": {},
   "source": [
    "### Dictionary "
   ]
  },
  {
   "cell_type": "code",
   "execution_count": 79,
   "metadata": {},
   "outputs": [
    {
     "name": "stdout",
     "output_type": "stream",
     "text": [
      "{}\n",
      "{'a': 1, 'b': 2, 'd': 1, 'm': 10}\n"
     ]
    }
   ],
   "source": [
    "d = {'a': 1, 'b': 2}\n",
    "\n",
    "# Modification Methods\n",
    "d['c'] = 3        # Add/update key-value\n",
    "d.update({'d': 4})  # Add/update multiple\n",
    "d.pop('a')        # Remove and return value\n",
    "d.popitem()       # Remove and return last item\n",
    "d.clear()         # Remove all items\n",
    "\n",
    "# Access Methods\n",
    "d.get('a')        # Get value (with optional default)\n",
    "d.keys()          # Get all keys\n",
    "d.values()        # Get all values\n",
    "d.items()         # Get all key-value pairs\n",
    "d.setdefault('a', 1)  # Get value, set if missing\n",
    "\n",
    "# Operations\n",
    "len(d)            # Length\n",
    "'a' in d          # Key membership testing\n",
    "del d['a']        # Delete key-value pair\n",
    "\n",
    "print(d)\n",
    "d = {'a': 1, 'b': 2}\n",
    "d.setdefault('d', 1)\n",
    "d.setdefault('m', 10)\n",
    "print(d)"
   ]
  },
  {
   "cell_type": "code",
   "execution_count": 136,
   "metadata": {},
   "outputs": [
    {
     "name": "stdout",
     "output_type": "stream",
     "text": [
      "{'name ': 'John', 'age': 30, 'department': 'HR', 'salary': 50000, 'location': 'New York', 'email': 'john@example.com'}\n"
     ]
    }
   ],
   "source": [
    "employee = {\"name \" : \"John\", \"age\": 30, \"department\": \"HR\", 'salary': 50000, 'location': 'New York', 'email': 'john@example.com'}\n",
    "print(employee)"
   ]
  },
  {
   "cell_type": "code",
   "execution_count": 137,
   "metadata": {},
   "outputs": [
    {
     "data": {
      "text/plain": [
       "dict_keys(['name ', 'age', 'department', 'salary', 'location', 'email'])"
      ]
     },
     "execution_count": 137,
     "metadata": {},
     "output_type": "execute_result"
    }
   ],
   "source": [
    "employee.keys()"
   ]
  },
  {
   "cell_type": "code",
   "execution_count": 138,
   "metadata": {},
   "outputs": [
    {
     "data": {
      "text/plain": [
       "dict_values(['John', 30, 'HR', 50000, 'New York', 'john@example.com'])"
      ]
     },
     "execution_count": 138,
     "metadata": {},
     "output_type": "execute_result"
    }
   ],
   "source": [
    "employee.values()"
   ]
  },
  {
   "cell_type": "code",
   "execution_count": 140,
   "metadata": {},
   "outputs": [
    {
     "data": {
      "text/plain": [
       "dict_keys(['name ', 'age', 'department', 'salary', 'location', 'email'])"
      ]
     },
     "execution_count": 140,
     "metadata": {},
     "output_type": "execute_result"
    }
   ],
   "source": [
    "employee.keys()"
   ]
  },
  {
   "cell_type": "code",
   "execution_count": 147,
   "metadata": {},
   "outputs": [
    {
     "data": {
      "text/plain": [
       "True"
      ]
     },
     "execution_count": 147,
     "metadata": {},
     "output_type": "execute_result"
    }
   ],
   "source": [
    "employee.setdefault('is_alive' ,True)"
   ]
  },
  {
   "cell_type": "code",
   "execution_count": 150,
   "metadata": {},
   "outputs": [
    {
     "data": {
      "text/plain": [
       "'next year kontadu'"
      ]
     },
     "execution_count": 150,
     "metadata": {},
     "output_type": "execute_result"
    }
   ],
   "source": [
    "employee.get('car', 'next year kontadu')"
   ]
  },
  {
   "cell_type": "code",
   "execution_count": null,
   "metadata": {},
   "outputs": [],
   "source": []
  },
  {
   "cell_type": "code",
   "execution_count": 146,
   "metadata": {},
   "outputs": [
    {
     "data": {
      "text/plain": [
       "dict_values(['John', 30, 'HR', 50000, 'New York', 'john@example.com'])"
      ]
     },
     "execution_count": 146,
     "metadata": {},
     "output_type": "execute_result"
    }
   ],
   "source": [
    "employee.get('cat',)"
   ]
  },
  {
   "cell_type": "code",
   "execution_count": 91,
   "metadata": {},
   "outputs": [
    {
     "name": "stdout",
     "output_type": "stream",
     "text": [
      "[('a', 1), ('b', 2), ('c', 3)]\n"
     ]
    }
   ],
   "source": [
    "my_dict = {\"a\": 1, \"c\": 3, \"b\": 2} \n",
    "dict_sorted = sorted(my_dict.items())\n",
    "print(dict_sorted)\n"
   ]
  },
  {
   "cell_type": "code",
   "execution_count": 92,
   "metadata": {},
   "outputs": [
    {
     "name": "stdout",
     "output_type": "stream",
     "text": [
      "None\n",
      "[1, 2, 3, 4, 5]\n",
      "[1, 2, 3, 4, 5]\n",
      "['a', 'b', 'c']\n",
      "['e', 'h', 'l', 'l', 'o']\n"
     ]
    }
   ],
   "source": [
    "# sort and sorted \n",
    "my_list = [1, 2, 3, 4, 5]\n",
    "print(my_list.sort()) # sort doesn't return anything , just modifies the list, memory efficient ( large ), works on only lists\n",
    "\n",
    "# sorted creates a new sorted list , doesn't modify the original list\n",
    "my_tuple = (1, 2, 3, 4, 5)\n",
    "print(sorted(my_tuple))\n",
    " # sorted returns a new sorted list ,\n",
    " # doesn't modify the tuple , \n",
    " # sorted alwyas returns a list\n",
    " # it works on all iterables and returns a list\n",
    "my_set = {1, 2, 3, 4, 5}\n",
    "print(sorted(my_set))\n",
    "\n",
    "my_dict = {'a': 1, 'b': 2, 'c': 3}\n",
    "print(sorted(my_dict))\n",
    "\n",
    "my_string = \"hello\"\n",
    "print(sorted(my_string))\n"
   ]
  },
  {
   "cell_type": "code",
   "execution_count": 175,
   "metadata": {},
   "outputs": [
    {
     "name": "stdout",
     "output_type": "stream",
     "text": [
      "['batman', 'ironman', 'spiderman', 'superman', 'thor']\n"
     ]
    }
   ],
   "source": [
    "movies = ('spiderman', 'batman', 'superman', 'ironman', 'thor')\n",
    "# print(movies.sort())\n",
    "print(sorted(movies))\n",
    "\n",
    "\n",
    "\n"
   ]
  },
  {
   "cell_type": "markdown",
   "metadata": {},
   "source": [
    "### 🚀 LevelUp : Dive Into the Challenge!"
   ]
  },
  {
   "cell_type": "code",
   "execution_count": null,
   "metadata": {},
   "outputs": [],
   "source": [
    "# stings practice questions  \n",
    "# Q1: Write a program to reverse a string without using the reverse function\n",
    "input_str = \"Python Programming\"\n",
    "\n",
    "# Q2: Given a string, count the number of vowels and consonants\n",
    "text = \"Hello World\"\n",
    "\n",
    "# Q3: Write a program to check if two strings are anagrams\n",
    "str1 = \"listen\"\n",
    "str2 = \"silent\"\n",
    "\n",
    "# list practice questions \n",
    "# Q1: Remove duplicates from a list while preserving order\n",
    "numbers = [1, 3, 3, 3, 6, 2, 3, 5]\n",
    "\n",
    "# Q2: Find the secnd largest number in a list withut using sort()\n",
    "nums = [10, 5, 8, 12, 3, 7, 5]\n",
    "\n",
    "# Q3: Rotate a list by k positions\n",
    "arr = [1, 2, 3, 4, 5]\n",
    "k = 2  # Output should be [4, 5, 1, 2, 3] \n",
    "\n",
    "# Tuple practice questions \n",
    "# Q1: Convert a list of tuples into a dictionary\n",
    "pairs = [(\"a\", 1), (\"b\", 2), (\"c\", 3)]\n",
    "\n",
    "# Q2: Find all pairs in a tuple list where sum is k\n",
    "tuple_list = [(1,2), (3,4), (5,6), (7,8)]\n",
    "k = 7\n",
    "\n",
    "# Q3: Swap elements in tuple of tuples\n",
    "tuple_of_tuples = ((1,2), (3,4), (5,6))\n",
    "\n",
    "# set practice questions \n",
    "# Q1: Find common elements between multiple lists using sets\n",
    "list1 = [1, 2, 3, 4, 5]\n",
    "list2 = [4, 5, 6, 7, 8]\n",
    "list3 = [5, 6, 7, 8, 9]\n",
    "\n",
    "# Q2: Remove all vowels from a sting using sets\n",
    "text = \"Hello World\"\n",
    "\n",
    "# Q3: Find symmetric difference between two lists\n",
    "list1 = [1, 2, 3, 4, 5]\n",
    "list2 = [4, 5, 6, 7, 8] \n",
    "\n",
    "# dictionary practice questions \n",
    "# Q1: Group items by their first letter\n",
    "words = ['apple', 'ant', 'banana', 'bat', 'cat']\n",
    "\n",
    "# Q2: Merge two dictionaries with summing common values\n",
    "dict1 = {'a': 1, 'b': 2, 'c': 3}\n",
    "dict2 = {'b': 3, 'c': 4, 'd': 5}\n",
    "\n",
    "# Q3: Fid the most frequent character in a string using dictionary\n",
    "text = \"programming\""
   ]
  },
  {
   "cell_type": "markdown",
   "metadata": {},
   "source": [
    "### Comparision Operators "
   ]
  },
  {
   "cell_type": "code",
   "execution_count": null,
   "metadata": {},
   "outputs": [],
   "source": [
    "x = 5\n",
    "y = 10\n",
    "\n",
    "# Comparison operators\n",
    "x == y    # Equal to\n",
    "x != y    # Not equal to\n",
    "x > y     # Greater than\n",
    "x < y     # Less than\n",
    "x >= y    # Greater than or equal to\n",
    "x <= y    # Less than or equal to\n",
    "\n",
    "# Logical operators\n",
    "and    # Both conditions must be True\n",
    "or     # At least one condition must be True\n",
    "not    # Inverts the condition\n",
    "\n",
    "# Identity operators\n",
    "is     # Object identity comparison\n",
    "is not # Negative object identity\n",
    "\n",
    "# Membership operators\n",
    "in     # Check if value exists in sequence\n",
    "not in # Check if value doesn't exist in sequence"
   ]
  },
  {
   "cell_type": "code",
   "execution_count": 180,
   "metadata": {},
   "outputs": [
    {
     "name": "stdout",
     "output_type": "stream",
     "text": [
      "True\n",
      "a is b\n",
      "a is b\n"
     ]
    }
   ],
   "source": [
    "a  = 'hello' \n",
    "b = 'hello'\n",
    "print(a == b) \n",
    "if a is b:\n",
    "    print(\"a is b\")\n",
    "else:\n",
    "    print(\"a is not b\")\n",
    "\n",
    "if a is not b:\n",
    "    print(\"a is not b\")\n",
    "else:\n",
    "    print(\"a is b\")"
   ]
  },
  {
   "cell_type": "markdown",
   "metadata": {},
   "source": [
    "### if else Statements \n"
   ]
  },
  {
   "cell_type": "code",
   "execution_count": null,
   "metadata": {},
   "outputs": [],
   "source": [
    "# Basic if-else structure\n",
    "condition = True\n",
    "if condition:\n",
    "    # Code executed if condition is True\n",
    "else:\n",
    "    # Code executed if condition is False\n",
    "\n",
    "# Multiple conditions using elif\n",
    "if condition1:\n",
    "    # Executed if condition1 is True\n",
    "elif condition2:\n",
    "    # Executed if condition1 is False and condition2 is True\n",
    "else:\n",
    "    # Executed if all conditions are False\n",
    "\n",
    "# Nested if statements\n",
    "if outer_condition:\n",
    "    if inner_condition: # type: ignore\n",
    "        # Executed when both conditions are True\n",
    "    else:\n",
    "        # Executed when outer True, inner False"
   ]
  },
  {
   "cell_type": "markdown",
   "metadata": {},
   "source": [
    "### For loop "
   ]
  },
  {
   "cell_type": "code",
   "execution_count": 188,
   "metadata": {},
   "outputs": [
    {
     "name": "stdout",
     "output_type": "stream",
     "text": [
      "0 1 2 3 4 5 6 7 8 9 1 2 3 4 5 "
     ]
    }
   ],
   "source": [
    "for i in range(10):\n",
    "    print(i, end=\" \")\n",
    "l =0, m = len(my_list) -1 \n",
    "my_list = [1, 2, 3, 4, 5]\n",
    "for i in range(len(my_list)):\n",
    "    print(my_list[i], end=\" \")\n",
    "    "
   ]
  },
  {
   "cell_type": "code",
   "execution_count": null,
   "metadata": {},
   "outputs": [],
   "source": [
    "# Basic for loop\n",
    "sequence = [1, 2, 3, 4, 5]\n",
    "for item in sequence:\n",
    "    print(item)\n",
    "\n",
    "# Range-based for loop\n",
    "for i in range(5):    # 0 to 4\n",
    "    print(i)\n",
    "\n",
    "for i in range(2, 5): # 2 to 4\n",
    "    print(i)\n",
    "\n",
    "for i in range(0, 10, 2): # 0 to 9 with step 2\n",
    "    print(i)\n",
    "\n",
    "# Enumerate for index and value\n",
    "for index, value in enumerate(sequence):\n",
    "    print(f\"Index {index}: {value}\")"
   ]
  },
  {
   "cell_type": "markdown",
   "metadata": {},
   "source": []
  },
  {
   "cell_type": "markdown",
   "metadata": {},
   "source": [
    "### While loop "
   ]
  },
  {
   "cell_type": "code",
   "execution_count": null,
   "metadata": {},
   "outputs": [],
   "source": [
    "# Basic while loop\n",
    "while condition:\n",
    "    # Code block\n",
    "    # Make sure condition eventually becomes False\n",
    "\n",
    "# While loop with counter\n",
    "count = 0\n",
    "while count < 5:\n",
    "    print(count)\n",
    "    count += 1\n",
    "\n",
    "# Infinite loop with break\n",
    "while True:\n",
    "    if exit_condition:\n",
    "        break"
   ]
  },
  {
   "cell_type": "markdown",
   "metadata": {},
   "source": [
    "### Loop Control Statements "
   ]
  },
  {
   "cell_type": "code",
   "execution_count": null,
   "metadata": {},
   "outputs": [],
   "source": [
    "# Break - Exit the loop entirely\n",
    "for i in range(5):\n",
    "    if i == 3:\n",
    "        break    # Exit when i equals 3\n",
    "\n",
    "# Continue - Skip to next iteration\n",
    "for i in range(5):\n",
    "    if i == 3:\n",
    "        continue # Skip when i equals 3\n",
    "\n",
    "# Pass - Do nothing (placeholder)\n",
    "for i in range(5):\n",
    "    if i == 3:\n",
    "        pass    # Placeholder for future code "
   ]
  },
  {
   "cell_type": "code",
   "execution_count": 109,
   "metadata": {},
   "outputs": [
    {
     "name": "stdout",
     "output_type": "stream",
     "text": [
      "X: 1, Y: 2\n",
      "X: 3, Y: 4\n"
     ]
    }
   ],
   "source": [
    "points = [(1, 2), (3, 4)] # thinks like this are cooordinates "
   ]
  },
  {
   "cell_type": "markdown",
   "metadata": {},
   "source": [
    "### Zip "
   ]
  },
  {
   "cell_type": "code",
   "execution_count": null,
   "metadata": {},
   "outputs": [],
   "source": [
    "# Zip multiple iterables\n",
    "names = ['Alice', 'Bob']\n",
    "ages = [25, 30]\n",
    "for name, age in zip(names, ages):\n",
    "    print(f\"{name} is {age} years old\")\n",
    "\n",
    "# Filter with list comprehension\n",
    "numbers = [1, 2, 3, 4, 5]\n",
    "evens = [x for x in numbers if x % 2 == 0]\n",
    "\n",
    "# Nested comprehensions\n",
    "matrix = [[i+j for j in range(3)] for i in range(3)]\n",
    "\n",
    "# Multiple conditions\n",
    "for num in numbers:\n",
    "    if num > 0:\n",
    "        if num % 2 == 0:\n",
    "            print(f\"{num} is positive and even\")\n",
    "        else:\n",
    "            print(f\"{num} is positive and odd\")"
   ]
  },
  {
   "cell_type": "code",
   "execution_count": 93,
   "metadata": {},
   "outputs": [
    {
     "name": "stdout",
     "output_type": "stream",
     "text": [
      "Rahuyl  is cool and hfiie\n",
      "Dfalkahuyl  is cool and hfiie\n",
      "Dhlakdfjdfd df df\n"
     ]
    }
   ],
   "source": [
    "sentence =  [\"rahuyl  is cool and hfiie\" , \"dfalkahuyl  is cool and hfiie\" , 'dhlakdfjdfd df df'] \n",
    "for i in sentence:\n",
    "    def title_case(line=i):\n",
    "        return line[0].title() + line[1:]\n",
    "    print(title_case(i))"
   ]
  },
  {
   "cell_type": "code",
   "execution_count": 94,
   "metadata": {},
   "outputs": [
    {
     "data": {
      "text/plain": [
       "'Rahuyl  Is Cool And Hfiie'"
      ]
     },
     "execution_count": 94,
     "metadata": {},
     "output_type": "execute_result"
    }
   ],
   "source": [
    "sete = \"rahuyl  is cool and hfiie\" \n",
    "sete.title()"
   ]
  },
  {
   "cell_type": "code",
   "execution_count": null,
   "metadata": {},
   "outputs": [],
   "source": []
  }
 ],
 "metadata": {
  "kernelspec": {
   "display_name": "Python 3 (ipykernel)",
   "language": "python",
   "name": "python3"
  },
  "language_info": {
   "codemirror_mode": {
    "name": "ipython",
    "version": 3
   },
   "file_extension": ".py",
   "mimetype": "text/x-python",
   "name": "python",
   "nbconvert_exporter": "python",
   "pygments_lexer": "ipython3",
   "version": "3.9.7"
  }
 },
 "nbformat": 4,
 "nbformat_minor": 2
}
